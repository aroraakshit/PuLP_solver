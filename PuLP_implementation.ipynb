{
 "cells": [
  {
   "cell_type": "markdown",
   "metadata": {},
   "source": [
    "# Working with PuLP\n",
    "\n",
    "### by [Akshit Arora](https://github.com/aroraakshit)\n",
    "\n",
    "We will be solving the following problem:\n",
    "![maximization problem](1.PNG)\n",
    "\n",
    "To install PuLP. Follow instructions [here](https://pythonhosted.org/PuLP/main/installing_pulp_at_home.html)."
   ]
  },
  {
   "cell_type": "code",
   "execution_count": 1,
   "metadata": {},
   "outputs": [],
   "source": [
    "#importing pulp\n",
    "from pulp import *"
   ]
  },
  {
   "cell_type": "code",
   "execution_count": 2,
   "metadata": {},
   "outputs": [],
   "source": [
    "#state the kind of problem we are dealing with (minimization / maximization)\n",
    "problem = LpProblem(\"A\",LpMaximize)\n",
    "\n",
    "#create three variables with lower limit 0\n",
    "x = LpVariable(\"X\",0,None,LpContinuous)\n",
    "y = LpVariable(\"Y\",0,None,LpContinuous)"
   ]
  },
  {
   "cell_type": "code",
   "execution_count": 3,
   "metadata": {},
   "outputs": [],
   "source": [
    "#Add objective function to 'problem'\n",
    "problem += x + y\n",
    "\n",
    "#Add constraints to the problem\n",
    "problem += 2*x + y <= 3\n",
    "problem += x + 3*y <= 5"
   ]
  },
  {
   "cell_type": "code",
   "execution_count": 4,
   "metadata": {},
   "outputs": [
    {
     "name": "stdout",
     "output_type": "stream",
     "text": [
      "\n",
      " Status: Optimal\n",
      "\n"
     ]
    }
   ],
   "source": [
    "#the problem data is written in a file\n",
    "problem.writeLP(\"prob.lp\")\n",
    "\n",
    "#the problem is solved using PuLP's choice of solver\n",
    "problem.solve()\n",
    "\n",
    "#status of problem\n",
    "print (\"\\n Status: \" + LpStatus[problem.status] + \"\\n\")"
   ]
  },
  {
   "cell_type": "code",
   "execution_count": 5,
   "metadata": {},
   "outputs": [
    {
     "name": "stdout",
     "output_type": "stream",
     "text": [
      "\tX = 0.8\n",
      "\n",
      "\tY = 1.4\n",
      "\n",
      "Final value obtained:2.2\n"
     ]
    }
   ],
   "source": [
    "for v in problem.variables():\n",
    "    print(\"\\t\" + str(v.name) + \" = \" + str(v.varValue) + \"\\n\")\n",
    "    \n",
    "print(\"Final value obtained:\" + str(value(problem.objective)))"
   ]
  },
  {
   "cell_type": "markdown",
   "metadata": {},
   "source": [
    "--------\n",
    "Part of the code has been taken from [Prof. Jayendran Venkateswaran's talk in IIT Bombay in 2015](https://www.youtube.com/watch?v=-hfnglaFLrk)"
   ]
  },
  {
   "cell_type": "markdown",
   "metadata": {},
   "source": [
    "The solution can be verified from [Wolfram's online LP solver](http://www.wolframalpha.com/widget/widgetPopup.jsp?p=v&id=1e692c6f72587b2cbd3e7be018fd8960&title=Linear%20Programming%20Calculator&theme=blue)"
   ]
  }
 ],
 "metadata": {
  "kernelspec": {
   "display_name": "Python 2",
   "language": "python",
   "name": "python2"
  },
  "language_info": {
   "codemirror_mode": {
    "name": "ipython",
    "version": 3
   },
   "file_extension": ".py",
   "mimetype": "text/x-python",
   "name": "python",
   "nbconvert_exporter": "python",
   "pygments_lexer": "ipython3",
   "version": "3.5.2"
  }
 },
 "nbformat": 4,
 "nbformat_minor": 2
}
